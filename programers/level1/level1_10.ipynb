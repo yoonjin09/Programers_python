{
 "cells": [
  {
   "cell_type": "code",
   "execution_count": 1,
   "id": "essential-plumbing",
   "metadata": {},
   "outputs": [
    {
     "data": {
      "text/plain": [
       "'\\n두 개 뽑아서 더하기\\n문제 설명\\n정수 배열 numbers가 주어집니다. numbers에서 서로 다른 인덱스에 있는 두 개의 수를 뽑아 더해서 만들 수 있는 모든 수를 배열에 오름차순으로 담아 return 하도록 solution 함수를 완성해주세요.\\n\\n제한사항\\nnumbers의 길이는 2 이상 100 이하입니다.\\nnumbers의 모든 수는 0 이상 100 이하입니다.\\n입출력 예\\nnumbers\\tresult\\n[2,1,3,4,1]\\t[2,3,4,5,6,7]\\n[5,0,2,7]\\t[2,5,7,9,12]\\n입출력 예 설명\\n입출력 예 #1\\n\\n2 = 1 + 1 입니다. (1이 numbers에 두 개 있습니다.)\\n3 = 2 + 1 입니다.\\n4 = 1 + 3 입니다.\\n5 = 1 + 4 = 2 + 3 입니다.\\n6 = 2 + 4 입니다.\\n7 = 3 + 4 입니다.\\n따라서 [2,3,4,5,6,7] 을 return 해야 합니다.\\n입출력 예 #2\\n\\n2 = 0 + 2 입니다.\\n5 = 5 + 0 입니다.\\n7 = 0 + 7 = 5 + 2 입니다.\\n9 = 2 + 7 입니다.\\n12 = 5 + 7 입니다.\\n따라서 [2,5,7,9,12] 를 return 해야 합니다.\\n'"
      ]
     },
     "execution_count": 1,
     "metadata": {},
     "output_type": "execute_result"
    }
   ],
   "source": [
    "'''\n",
    "두 개 뽑아서 더하기\n",
    "문제 설명\n",
    "정수 배열 numbers가 주어집니다. numbers에서 서로 다른 인덱스에 있는 두 개의 수를 뽑아 더해서 만들 수 있는 모든 수를 배열에 오름차순으로 담아 return 하도록 solution 함수를 완성해주세요.\n",
    "\n",
    "제한사항\n",
    "numbers의 길이는 2 이상 100 이하입니다.\n",
    "numbers의 모든 수는 0 이상 100 이하입니다.\n",
    "입출력 예\n",
    "numbers\tresult\n",
    "[2,1,3,4,1]\t[2,3,4,5,6,7]\n",
    "[5,0,2,7]\t[2,5,7,9,12]\n",
    "입출력 예 설명\n",
    "입출력 예 #1\n",
    "\n",
    "2 = 1 + 1 입니다. (1이 numbers에 두 개 있습니다.)\n",
    "3 = 2 + 1 입니다.\n",
    "4 = 1 + 3 입니다.\n",
    "5 = 1 + 4 = 2 + 3 입니다.\n",
    "6 = 2 + 4 입니다.\n",
    "7 = 3 + 4 입니다.\n",
    "따라서 [2,3,4,5,6,7] 을 return 해야 합니다.\n",
    "입출력 예 #2\n",
    "\n",
    "2 = 0 + 2 입니다.\n",
    "5 = 5 + 0 입니다.\n",
    "7 = 0 + 7 = 5 + 2 입니다.\n",
    "9 = 2 + 7 입니다.\n",
    "12 = 5 + 7 입니다.\n",
    "따라서 [2,5,7,9,12] 를 return 해야 합니다.\n",
    "'''"
   ]
  },
  {
   "cell_type": "code",
   "execution_count": 45,
   "id": "lovely-shock",
   "metadata": {},
   "outputs": [
    {
     "name": "stdout",
     "output_type": "stream",
     "text": [
      "[3, 13, 14, 22, 23, 24, 25, 33, 35, 43, 44, 54, 63, 65]\n"
     ]
    }
   ],
   "source": [
    "from itertools import combinations\n",
    "\n",
    "numbers = [1,23,42,12,2,21]\n",
    "answer = []\n",
    "temp = combinations(numbers,2)\n",
    "answer = list(set([x + y for x,y in temp]))\n",
    "answer.sort()\n",
    "print(answer)\n",
    "'''\n",
    "\n",
    "이번에는 내가 한게 제일 간단하고 좋은 것 같다. 그래서 그냥 다른 사람꺼 코드를 넣지 않았다. 여기서 중요한 점은 무엇일까\n",
    "from itertools import combinations 이다. 이것을 사용해서 바로 각각 뽑아내는 method를 사용하였고, set으로 중복되는 것을 없애 주었다. \n",
    "저번에 한 번 사용했다고 쉽게 풀렸다.\n",
    "또 한가지 사용 한 것은 [x +y for x,y in tmep] 이다. 간단하게 list 형태로 저장할 수 있어서 유용하다\n",
    "'''"
   ]
  },
  {
   "cell_type": "code",
   "execution_count": null,
   "id": "fabulous-identifier",
   "metadata": {},
   "outputs": [],
   "source": []
  },
  {
   "cell_type": "code",
   "execution_count": null,
   "id": "contemporary-lodge",
   "metadata": {},
   "outputs": [],
   "source": []
  }
 ],
 "metadata": {
  "kernelspec": {
   "display_name": "Python 3",
   "language": "python",
   "name": "python3"
  },
  "language_info": {
   "codemirror_mode": {
    "name": "ipython",
    "version": 3
   },
   "file_extension": ".py",
   "mimetype": "text/x-python",
   "name": "python",
   "nbconvert_exporter": "python",
   "pygments_lexer": "ipython3",
   "version": "3.9.2"
  }
 },
 "nbformat": 4,
 "nbformat_minor": 5
}
