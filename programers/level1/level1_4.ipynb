{
 "cells": [
  {
   "cell_type": "code",
   "execution_count": 1,
   "id": "pleasant-guard",
   "metadata": {},
   "outputs": [
    {
     "data": {
      "text/plain": [
       "'\\nlevel1 _ 내적\\n\\n문제 설명\\n길이가 같은 두 1차원 정수 배열 a, b가 매개변수로 주어집니다. a와 b의 내적을 return 하도록 solution 함수를 완성해주세요.\\n\\n이때, a와 b의 내적은 a[0]*b[0] + a[1]*b[1] + ... + a[n-1]*b[n-1] 입니다. (n은 a, b의 길이)\\n\\n제한사항\\na, b의 길이는 1 이상 1,000 이하입니다.\\na, b의 모든 수는 -1,000 이상 1,000 이하입니다.\\n\\n입출력 예\\na\\tb\\tresult\\n[1,2,3,4]\\t[-3,-1,0,2]\\t3\\n[-1,0,1]\\t[1,0,-1]\\t-2\\n'"
      ]
     },
     "execution_count": 1,
     "metadata": {},
     "output_type": "execute_result"
    }
   ],
   "source": [
    "'''\n",
    "level1 _ 내적\n",
    "\n",
    "문제 설명\n",
    "길이가 같은 두 1차원 정수 배열 a, b가 매개변수로 주어집니다. a와 b의 내적을 return 하도록 solution 함수를 완성해주세요.\n",
    "\n",
    "이때, a와 b의 내적은 a[0]*b[0] + a[1]*b[1] + ... + a[n-1]*b[n-1] 입니다. (n은 a, b의 길이)\n",
    "\n",
    "제한사항\n",
    "a, b의 길이는 1 이상 1,000 이하입니다.\n",
    "a, b의 모든 수는 -1,000 이상 1,000 이하입니다.\n",
    "\n",
    "입출력 예\n",
    "a\tb\tresult\n",
    "[1,2,3,4]\t[-3,-1,0,2]\t3\n",
    "[-1,0,1]\t[1,0,-1]\t-2\n",
    "'''"
   ]
  },
  {
   "cell_type": "code",
   "execution_count": 2,
   "id": "joint-atlas",
   "metadata": {},
   "outputs": [],
   "source": [
    "a = [1,2,3,4]\n",
    "b= [-3,-1,0,2]\n"
   ]
  },
  {
   "cell_type": "code",
   "execution_count": 21,
   "id": "sublime-while",
   "metadata": {},
   "outputs": [
    {
     "data": {
      "text/plain": [
       "'\\n내가 짠 코드 \\nlambda를 이용해서 풀어보려고 굳이 lambda를 사용해서 만들어보았다. 그나마 간단하다고 생각을 하였지만 한 줄짜리 코드가 있다\\ntotal = 0\\nfunc = (lambda x,y : x*y)\\n\\nfor temp in range(len(a)):\\n    total = total + func(a[temp], b[temp])\\n\\n'"
      ]
     },
     "execution_count": 21,
     "metadata": {},
     "output_type": "execute_result"
    }
   ],
   "source": [
    "'''\n",
    "내가 짠 코드 \n",
    "lambda를 이용해서 풀어보려고 굳이 lambda를 사용해서 만들어보았다. 그나마 간단하다고 생각을 하였지만 한 줄짜리 코드가 있다\n",
    "total = 0\n",
    "func = (lambda x,y : x*y)\n",
    "\n",
    "for temp in range(len(a)):\n",
    "    total = total + func(a[temp], b[temp])\n",
    "\n",
    "'''"
   ]
  },
  {
   "cell_type": "code",
   "execution_count": 20,
   "id": "affecting-instrument",
   "metadata": {},
   "outputs": [
    {
     "data": {
      "text/plain": [
       "[-3, -2, 0, 8]"
      ]
     },
     "execution_count": 20,
     "metadata": {},
     "output_type": "execute_result"
    }
   ],
   "source": [
    " '''\n",
    " 해설지\n",
    " 여기에서 가장 중요한 키워드는 zip이다\n",
    " \n",
    " list(zip(a,b))를 해보면 [(1, -3), (2, -1), (3, 0), (4, 2)] 이렇게 나오는데 각각을 x,y로 표현이 가능해진다.\n",
    " 즉 [x*y for x,y in zip(a,b)] 는 [-3, -2, 0, 8] 이 된다. 이 상태에서 sum()을 사용해주면 우리가 원하는 내적이 나타나는 것이다. 따라서\n",
    " 한 줄 짜리 답은 아래와 같다\n",
    " \n",
    " sum([x*y for x, y in zip(a,b)])\n",
    " '''"
   ]
  },
  {
   "cell_type": "code",
   "execution_count": 26,
   "id": "atlantic-officer",
   "metadata": {},
   "outputs": [
    {
     "data": {
      "text/plain": [
       "[(1, -3), (2, -1), (3, 0), (4, 2)]"
      ]
     },
     "execution_count": 26,
     "metadata": {},
     "output_type": "execute_result"
    }
   ],
   "source": [
    "list(zip(a,b))"
   ]
  },
  {
   "cell_type": "code",
   "execution_count": 27,
   "id": "moved-housing",
   "metadata": {},
   "outputs": [
    {
     "data": {
      "text/plain": [
       "[-3, -2, 0, 8]"
      ]
     },
     "execution_count": 27,
     "metadata": {},
     "output_type": "execute_result"
    }
   ],
   "source": [
    "[x*y for x,y in zip(a,b)]"
   ]
  },
  {
   "cell_type": "code",
   "execution_count": null,
   "id": "driven-harassment",
   "metadata": {},
   "outputs": [],
   "source": []
  }
 ],
 "metadata": {
  "kernelspec": {
   "display_name": "Python 3",
   "language": "python",
   "name": "python3"
  },
  "language_info": {
   "codemirror_mode": {
    "name": "ipython",
    "version": 3
   },
   "file_extension": ".py",
   "mimetype": "text/x-python",
   "name": "python",
   "nbconvert_exporter": "python",
   "pygments_lexer": "ipython3",
   "version": "3.9.2"
  }
 },
 "nbformat": 4,
 "nbformat_minor": 5
}
