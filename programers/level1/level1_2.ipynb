{
 "cells": [
  {
   "cell_type": "code",
   "execution_count": 63,
   "id": "checked-potato",
   "metadata": {},
   "outputs": [
    {
     "name": "stdout",
     "output_type": "stream",
     "text": [
      "3\n",
      "[('119', 3), ('97674223', 8), ('1195524421', 10)]\n",
      "[('119', 3), ('97674223', 8), ('1195524421', 10)]\n",
      "[('119', 3), ('97674223', 8), ('1195524421', 10)]\n"
     ]
    },
    {
     "data": {
      "text/plain": [
       "True"
      ]
     },
     "execution_count": 63,
     "metadata": {},
     "output_type": "execute_result"
    }
   ],
   "source": [
    "'''\n",
    "문제 설명\n",
    "전화번호부에 적힌 전화번호 중, 한 번호가 다른 번호의 접두어인 경우가 있는지 확인하려 합니다.\n",
    "전화번호가 다음과 같을 경우, 구조대 전화번호는 영석이의 전화번호의 접두사입니다.\n",
    "\n",
    "구조대 : 119\n",
    "박준영 : 97 674 223\n",
    "지영석 : 11 9552 4421\n",
    "전화번호부에 적힌 전화번호를 담은 배열 phone_book 이 solution 함수의 매개변수로 주어질 때, 어떤 번호가 다른 번호의 접두어인 경우가 있으면 false를 그렇지 않으면 true를 return 하도록 solution 함수를 작성해주세요.\n",
    "\n",
    "제한 사항\n",
    "phone_book의 길이는 1 이상 1,000,000 이하입니다.\n",
    "각 전화번호의 길이는 1 이상 20 이하입니다.\n",
    "같은 전화번호가 중복해서 들어있지 않습니다.\n",
    "'''\n",
    "\n",
    "#내가 쓴 코드\n",
    "\n",
    "\n",
    "'''import copy\n",
    "\n",
    "def solution(phone_book):\n",
    "    answer = True\n",
    "    for i in phone_book:\n",
    "        num = copy.copy(phone_book)\n",
    "        num.remove(i)\n",
    "        for a in num:\n",
    "            print(type(a), type(i))\n",
    "            print('a',a,'i',i)\n",
    "            if a.find(i) == 0:\n",
    "                answer = False\n",
    "\n",
    "    return answer'''\n",
    "## 하지만 위에 코드 같은 경우 답은 맞지만 효율성 부분에서 탈락이다. 즉 시간이 너무 오래걸린다는 소리이다.\n",
    "\n",
    "#모르겠다..\n",
    "import operator\n",
    "\n",
    "def solution(phone_book):\n",
    "    answer = True\n",
    "    a={}\n",
    "    for i in phone_book:\n",
    "        a[i]=len(i)\n",
    "    a= sorted(a.items(), key = operator.itemgetter(1))\n",
    "    condition = a[0][1]\n",
    "    print(condition)\n",
    "    for k,o in a:\n",
    "        if o < condition:\n",
    "            \n",
    "    return answer\n",
    "'''입력값'''\n",
    "phone = [\"97674223\", \"1195524421\",\"119\"]\n",
    "# phone = [\"123\",\"456\",\"789\"]\n",
    "solution(phone)"
   ]
  },
  {
   "cell_type": "code",
   "execution_count": null,
   "id": "northern-netscape",
   "metadata": {},
   "outputs": [],
   "source": []
  },
  {
   "cell_type": "code",
   "execution_count": null,
   "id": "agricultural-college",
   "metadata": {},
   "outputs": [],
   "source": []
  }
 ],
 "metadata": {
  "kernelspec": {
   "display_name": "Python 3",
   "language": "python",
   "name": "python3"
  },
  "language_info": {
   "codemirror_mode": {
    "name": "ipython",
    "version": 3
   },
   "file_extension": ".py",
   "mimetype": "text/x-python",
   "name": "python",
   "nbconvert_exporter": "python",
   "pygments_lexer": "ipython3",
   "version": "3.9.2"
  }
 },
 "nbformat": 4,
 "nbformat_minor": 5
}
