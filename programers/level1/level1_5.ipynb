{
 "cells": [
  {
   "cell_type": "code",
   "execution_count": 1,
   "id": "imposed-builder",
   "metadata": {},
   "outputs": [
    {
     "data": {
      "text/plain": [
       "'\\n가운데 문자 빼오기\\n\\n\\n문제 설명\\n단어 s의 가운데 글자를 반환하는 함수, solution을 만들어 보세요. 단어의 길이가 짝수라면 가운데 두글자를 반환하면 됩니다.\\n\\n재한사항\\ns는 길이가 1 이상, 100이하인 스트링입니다.\\n\\n입출력 예\\ns\\treturn\\n\"abcde\"\\t\"c\"\\n\"qwer\"\\t\"we\"\\n\\n'"
      ]
     },
     "execution_count": 1,
     "metadata": {},
     "output_type": "execute_result"
    }
   ],
   "source": [
    "'''\n",
    "가운데 문자 빼오기\n",
    "\n",
    "\n",
    "문제 설명\n",
    "단어 s의 가운데 글자를 반환하는 함수, solution을 만들어 보세요. 단어의 길이가 짝수라면 가운데 두글자를 반환하면 됩니다.\n",
    "\n",
    "재한사항\n",
    "s는 길이가 1 이상, 100이하인 스트링입니다.\n",
    "\n",
    "입출력 예\n",
    "s\treturn\n",
    "\"abcde\"\t\"c\"\n",
    "\"qwer\"\t\"we\"\n",
    "\n",
    "'''"
   ]
  },
  {
   "cell_type": "code",
   "execution_count": 26,
   "id": "forty-curve",
   "metadata": {},
   "outputs": [
    {
     "name": "stdout",
     "output_type": "stream",
     "text": [
      "2.5\n"
     ]
    }
   ],
   "source": [
    "s = 'abcde'\n",
    "# s = 'qwer'\n",
    "s[0:2]\n",
    "print(len(s)/2)"
   ]
  },
  {
   "cell_type": "code",
   "execution_count": 27,
   "id": "regular-privacy",
   "metadata": {},
   "outputs": [
    {
     "name": "stdout",
     "output_type": "stream",
     "text": [
      "c\n"
     ]
    }
   ],
   "source": [
    "'''\n",
    "내가 작성한 코드 \n",
    "\n",
    "분명 그냥 else를 사용하면 쉽게 풀리는 부분이기는 하다.\n",
    "하지만 분명 한 줄에 끝낼 수 있는 방법이 있지않을까 고민을 했다. \n",
    "코드에 대한 방법을 새롭게 배우는 것이 아니라 수학적 방법이 중요했던 문제라고 생각된다.\n",
    "'''\n",
    "answer = s[int(len(s)/2)+ len(s)%2 -1:int(len(s)/2) + 1]\n",
    "print(answer)"
   ]
  },
  {
   "cell_type": "code",
   "execution_count": null,
   "id": "material-helmet",
   "metadata": {},
   "outputs": [],
   "source": []
  }
 ],
 "metadata": {
  "kernelspec": {
   "display_name": "Python 3",
   "language": "python",
   "name": "python3"
  },
  "language_info": {
   "codemirror_mode": {
    "name": "ipython",
    "version": 3
   },
   "file_extension": ".py",
   "mimetype": "text/x-python",
   "name": "python",
   "nbconvert_exporter": "python",
   "pygments_lexer": "ipython3",
   "version": "3.9.2"
  }
 },
 "nbformat": 4,
 "nbformat_minor": 5
}
