{
 "cells": [
  {
   "cell_type": "code",
   "execution_count": 1,
   "id": "marked-first",
   "metadata": {},
   "outputs": [
    {
     "data": {
      "text/plain": [
       "'\\n3진법 뒤집기\\n문제 설명\\n자연수 n이 매개변수로 주어집니다. n을 3진법 상에서 앞뒤로 뒤집은 후, 이를 다시 10진법으로 표현한 수를 return 하도록 solution 함수를 완성해주세요.\\n\\n제한사항\\nn은 1 이상 100,000,000 이하인 자연수입니다.\\n입출력 예\\nn\\tresult\\n45\\t7\\n125\\t229\\n입출력 예 설명\\n입출력 예 #1\\n\\n답을 도출하는 과정은 다음과 같습니다.\\nn (10진법)\\tn (3진법)\\t앞뒤 반전(3진법)\\t10진법으로 표현\\n45\\t1200\\t0021\\t7\\n따라서 7을 return 해야 합니다.\\n입출력 예 #2\\n\\n답을 도출하는 과정은 다음과 같습니다.\\nn (10진법)\\tn (3진법)\\t앞뒤 반전(3진법)\\t10진법으로 표현\\n125\\t11122\\t22111\\t229\\n따라서 229를 return 해야 합니다.\\n'"
      ]
     },
     "execution_count": 1,
     "metadata": {},
     "output_type": "execute_result"
    }
   ],
   "source": [
    "'''\n",
    "3진법 뒤집기\n",
    "문제 설명\n",
    "자연수 n이 매개변수로 주어집니다. n을 3진법 상에서 앞뒤로 뒤집은 후, 이를 다시 10진법으로 표현한 수를 return 하도록 solution 함수를 완성해주세요.\n",
    "\n",
    "제한사항\n",
    "n은 1 이상 100,000,000 이하인 자연수입니다.\n",
    "입출력 예\n",
    "n\tresult\n",
    "45\t7\n",
    "125\t229\n",
    "입출력 예 설명\n",
    "입출력 예 #1\n",
    "\n",
    "답을 도출하는 과정은 다음과 같습니다.\n",
    "n (10진법)\tn (3진법)\t앞뒤 반전(3진법)\t10진법으로 표현\n",
    "45\t1200\t0021\t7\n",
    "따라서 7을 return 해야 합니다.\n",
    "입출력 예 #2\n",
    "\n",
    "답을 도출하는 과정은 다음과 같습니다.\n",
    "n (10진법)\tn (3진법)\t앞뒤 반전(3진법)\t10진법으로 표현\n",
    "125\t11122\t22111\t229\n",
    "따라서 229를 return 해야 합니다.\n",
    "'''"
   ]
  },
  {
   "cell_type": "code",
   "execution_count": 23,
   "id": "tender-italian",
   "metadata": {},
   "outputs": [],
   "source": [
    "n= 45\n",
    "correct = 7\n",
    "\n",
    "# n_3 = \"\"\n",
    "# answer = 0\n",
    "# temp_three =0\n",
    "# while(n != 0):\n",
    "#     temp = n % 3\n",
    "#     n = n // 3\n",
    "#     n_3 = n_3 + str(temp)\n",
    "\n",
    "# n_3_r = int(n_3)\n",
    "# while(n_3_r != 0):\n",
    "#     answer = answer + (n_3_r % 10) * (3 ** temp_three)\n",
    "#     n_3_r = n_3_r // 10\n",
    "#     temp_three= temp_three +1"
   ]
  },
  {
   "cell_type": "code",
   "execution_count": 24,
   "id": "northern-cleaning",
   "metadata": {},
   "outputs": [
    {
     "data": {
      "text/plain": [
       "\"\\n아니 이게 뭐야? 왜 이렇게 짧아 int(tmp, 3) 이건 뭐야 짜증나\\n\\ndef solution(n):\\n    tmp = ''\\n    while n:\\n        tmp += str(n % 3)\\n        n = n // 3\\n\\n    answer = int(tmp, 3)\\n    return answer\\n\""
      ]
     },
     "execution_count": 24,
     "metadata": {},
     "output_type": "execute_result"
    }
   ],
   "source": [
    "'''\n",
    "아니 이게 뭐야? 왜 이렇게 짧아 int(tmp, 3) 이건 뭐야 짜증나 \n",
    "tmp가 string 일 경우 int(tmp,3) 이라는 뜻은 tmp 자체를 십진수로 파악하고 그것을 3진수로 나타내주는 method이다. 이거 알면 이거 썼지\n",
    "\n",
    "def solution(n):\n",
    "    tmp = ''\n",
    "    while n:\n",
    "        tmp += str(n % 3)\n",
    "        n = n // 3\n",
    "\n",
    "    answer = int(tmp, 3)\n",
    "    return answer\n",
    "'''"
   ]
  },
  {
   "cell_type": "code",
   "execution_count": 31,
   "id": "commercial-database",
   "metadata": {},
   "outputs": [
    {
     "name": "stdout",
     "output_type": "stream",
     "text": [
      "25\n"
     ]
    }
   ],
   "source": []
  },
  {
   "cell_type": "code",
   "execution_count": null,
   "id": "valid-rally",
   "metadata": {},
   "outputs": [],
   "source": []
  }
 ],
 "metadata": {
  "kernelspec": {
   "display_name": "Python 3",
   "language": "python",
   "name": "python3"
  },
  "language_info": {
   "codemirror_mode": {
    "name": "ipython",
    "version": 3
   },
   "file_extension": ".py",
   "mimetype": "text/x-python",
   "name": "python",
   "nbconvert_exporter": "python",
   "pygments_lexer": "ipython3",
   "version": "3.9.2"
  }
 },
 "nbformat": 4,
 "nbformat_minor": 5
}
