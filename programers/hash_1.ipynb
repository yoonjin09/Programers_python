'''
문제 설명
# 수많은 마라톤 선수들이 마라톤에 참여하였습니다. 단 한 명의 선수를 제외하고는 모든 선수가 마라톤을 완주하였습니다.

# 마라톤에 참여한 선수들의 이름이 담긴 배열 participant와 완주한 선수들의 이름이 담긴 배열 completion이 주어질 때, 완주하지 못한 선수의 이름을 return 하도록 solution 함수를 작성해주세요.

# 제한사항
# 마라톤 경기에 참여한 선수의 수는 1명 이상 100,000명 이하입니다.
# completion의 길이는 participant의 길이보다 1 작습니다.
# 참가자의 이름은 1개 이상 20개 이하의 알파벳 소문자로 이루어져 있습니다.
# 참가자 중에는 동명이인이 있을 수 있습니다.
'''


# 내가 짠 코드 .. 뭔지 모르겠지만 하나도 한 풀림 리스트를 입력을 하는 건지 무엇을 입력하는 건지도 파악을 못함.
# 그리고 이렇게 print를 통해서 만드는게 아니라 그냥 def에서 정해진대로 만들기만 하면 알아서 입력 및 출력이 되기 때문에 그것만 알고 있으면 될것 같음

# import re
# def solution(participant, completion):
#     answer = ''
#     for k in completion:
#         if k in participant:
#             participant.remove(k)     
#     answer = participant
#     return answer
# text = input()
# participant_list = list(map(str, re.split('[", "]',text)))
# print(participant_list)

# text2 = input()          
# completion_list = list(map(str, re.split('[" ,"]',text2)))
# print(completion_list)
# print(solution(participant_list, completion_list))

##해설지

import collections
'''
collections 가 무엇일까? 
:보통 표와 인덱스를 이용해서 만들어낼 때 사용한다. 여기에서는 Counter라는 것을 사용했는데 list의 형태로 이루어진 것을 dictionary 형태로 바꿔준다.
이때 어떠한 값이 몇 개 있는지를 알려주는 method라 생각하면 된다.
'''

def solution(participant, completion):
    answer = collections.Counter(participant) - collections.Counter(completion)
#     print(type(answer))
# <class 'collections.Counter'> 따라서 return을 할 때 List로 바꿔주는 것이다.
    return list(answer.keys())

 
#입력 예시
part = ["leo", "kiki", "eden"]
# print(collections.Counter(part))
# Counter({'leo': 1, 'kiki': 1, 'eden': 1})

com = ["eden", "kiki"]
# print(collections.Counter(com))
# Counter({'eden': 1, 'kiki': 1})

solution(part, com)

